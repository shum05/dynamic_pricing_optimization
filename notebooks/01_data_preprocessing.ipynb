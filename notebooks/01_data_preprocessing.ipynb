{
 "cells": [
  {
   "cell_type": "code",
   "execution_count": null,
   "metadata": {},
   "outputs": [],
   "source": [
    "# Import necessary libraries\n",
    "import pandas as pd\n",
    "import numpy as np\n",
    "\n",
    "# Generate mock data with realistic features\n",
    "np.random.seed(42)\n",
    "historical_data = pd.DataFrame({\n",
    "    'product_id': np.arange(1, 1001),\n",
    "    'historical_price': np.random.uniform(20, 80, 1000),\n",
    "    'demand_factor': np.random.normal(1, 0.2, 1000),\n",
    "    'seasonal_factor': np.random.normal(1, 0.1, 1000)\n",
    "})\n",
    "\n",
    "competitor_data = pd.DataFrame({\n",
    "    'product_id': np.arange(1, 1001),\n",
    "    'competitor_price': np.random.uniform(15, 75, 1000)\n",
    "})\n",
    "\n",
    "# Merge data\n",
    "pricing_data = pd.merge(historical_data, competitor_data, on='product_id')\n",
    "\n",
    "# Save data\n",
    "pricing_data.to_csv('data/pricing_data.csv', index=False)\n"
   ]
  }
 ],
 "metadata": {
  "language_info": {
   "name": "python"
  }
 },
 "nbformat": 4,
 "nbformat_minor": 2
}
