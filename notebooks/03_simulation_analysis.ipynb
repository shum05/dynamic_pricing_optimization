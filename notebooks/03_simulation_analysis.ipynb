{
 "cells": [
  {
   "cell_type": "code",
   "execution_count": null,
   "metadata": {},
   "outputs": [],
   "source": [
    "# Import libraries\n",
    "import matplotlib.pyplot as plt\n",
    "import seaborn as sns\n",
    "\n",
    "# Simulate pricing strategies with detailed analysis\n",
    "pricing_data['optimal_price'] = optimal_price.evalf(subs={\n",
    "    demand_factor: pricing_data['demand_factor'],\n",
    "    seasonal_factor: pricing_data['seasonal_factor'],\n",
    "    competitor_price: pricing_data['competitor_price']\n",
    "})\n",
    "\n",
    "# Visualize simulation results\n",
    "plt.figure(figsize=(12, 6))\n",
    "sns.scatterplot(x='historical_price', y='optimal_price', data=pricing_data, hue='seasonal_factor', palette='viridis')\n",
    "plt.title('Optimal Price vs Historical Price with Seasonal Variation')\n",
    "plt.xlabel('Historical Price')\n",
    "plt.ylabel('Optimal Price')\n",
    "plt.legend(title='Seasonal Factor')\n",
    "plt.show()\n"
   ]
  }
 ],
 "metadata": {
  "language_info": {
   "name": "python"
  }
 },
 "nbformat": 4,
 "nbformat_minor": 2
}
